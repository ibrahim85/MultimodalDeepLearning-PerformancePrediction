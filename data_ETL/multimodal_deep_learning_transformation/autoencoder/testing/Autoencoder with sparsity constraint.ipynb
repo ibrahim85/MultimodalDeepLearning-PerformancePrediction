{
 "cells": [
  {
   "cell_type": "markdown",
   "metadata": {},
   "source": [
    "[Source](https://blog.keras.io/building-autoencoders-in-keras.html)"
   ]
  },
  {
   "cell_type": "code",
   "execution_count": 2,
   "metadata": {
    "collapsed": true,
    "scrolled": true
   },
   "outputs": [],
   "source": [
    "%matplotlib inline"
   ]
  },
  {
   "cell_type": "code",
   "execution_count": 3,
   "metadata": {
    "collapsed": true,
    "scrolled": true
   },
   "outputs": [],
   "source": [
    "from keras.layers import Input, Dense\n",
    "from keras.models import Model\n",
    "from keras.datasets import mnist\n",
    "from keras import regularizers\n",
    "import numpy as np\n",
    "import matplotlib.pyplot as plt"
   ]
  },
  {
   "cell_type": "code",
   "execution_count": 15,
   "metadata": {
    "collapsed": true
   },
   "outputs": [],
   "source": [
    "encoding_dim = 32\n",
    "\n",
    "input_img = Input(shape=(784,))\n",
    "# add a Dense layer with a L1 activity regularizer\n",
    "encoded = Dense(encoding_dim, activation='relu',\n",
    "                activity_regularizer=regularizers.l1(10e-5))(input_img)\n",
    "decoded = Dense(784, activation='sigmoid')(encoded)\n",
    "\n",
    "autoencoder = Model(input_img, decoded)"
   ]
  },
  {
   "cell_type": "code",
   "execution_count": 16,
   "metadata": {
    "collapsed": true
   },
   "outputs": [],
   "source": [
    "# this model maps an input to its encoded representation\n",
    "encoder = Model(input_img, encoded)\n",
    "\n",
    "# create a placeholder for an encoded (32-dimensional) input\n",
    "encoded_input = Input(shape=(encoding_dim,))\n",
    "# retrieve the last layer of the autoencoder model\n",
    "decoder_layer = autoencoder.layers[-1]\n",
    "# create the decoder model\n",
    "decoder = Model(encoded_input, decoder_layer(encoded_input))"
   ]
  },
  {
   "cell_type": "code",
   "execution_count": 7,
   "metadata": {
    "collapsed": true
   },
   "outputs": [],
   "source": [
    "autoencoder.compile(optimizer='adadelta', loss='binary_crossentropy')"
   ]
  },
  {
   "cell_type": "code",
   "execution_count": 8,
   "metadata": {
    "collapsed": true
   },
   "outputs": [],
   "source": [
    "(x_train, _), (x_test, _) = mnist.load_data()"
   ]
  },
  {
   "cell_type": "code",
   "execution_count": 9,
   "metadata": {},
   "outputs": [
    {
     "name": "stdout",
     "output_type": "stream",
     "text": [
      "(60000, 784)\n",
      "(10000, 784)\n"
     ]
    }
   ],
   "source": [
    "x_train = x_train.astype('float32') / 255.\n",
    "x_test = x_test.astype('float32') / 255.\n",
    "x_train = x_train.reshape((len(x_train), np.prod(x_train.shape[1:])))\n",
    "x_test = x_test.reshape((len(x_test), np.prod(x_test.shape[1:])))\n",
    "print x_train.shape\n",
    "print x_test.shape"
   ]
  },
  {
   "cell_type": "code",
   "execution_count": 10,
   "metadata": {
    "scrolled": true
   },
   "outputs": [
    {
     "name": "stdout",
     "output_type": "stream",
     "text": [
      "Train on 60000 samples, validate on 10000 samples\n",
      "Epoch 1/100\n",
      "60000/60000 [==============================] - 3s - loss: 0.6843 - val_loss: 0.6607\n",
      "Epoch 2/100\n",
      "60000/60000 [==============================] - 3s - loss: 0.6440 - val_loss: 0.6272\n",
      "Epoch 3/100\n",
      "60000/60000 [==============================] - 4s - loss: 0.6111 - val_loss: 0.5952\n",
      "Epoch 4/100\n",
      "60000/60000 [==============================] - 3s - loss: 0.5802 - val_loss: 0.5655\n",
      "Epoch 5/100\n",
      "60000/60000 [==============================] - 3s - loss: 0.5519 - val_loss: 0.5386\n",
      "Epoch 6/100\n",
      "60000/60000 [==============================] - 3s - loss: 0.5264 - val_loss: 0.5146\n",
      "Epoch 7/100\n",
      "60000/60000 [==============================] - 3s - loss: 0.5036 - val_loss: 0.4932\n",
      "Epoch 8/100\n",
      "60000/60000 [==============================] - 3s - loss: 0.4835 - val_loss: 0.4744\n",
      "Epoch 9/100\n",
      "60000/60000 [==============================] - 2s - loss: 0.4658 - val_loss: 0.4577\n",
      "Epoch 10/100\n",
      "60000/60000 [==============================] - 3s - loss: 0.4501 - val_loss: 0.4430\n",
      "Epoch 11/100\n",
      "60000/60000 [==============================] - 3s - loss: 0.4362 - val_loss: 0.4299\n",
      "Epoch 12/100\n",
      "60000/60000 [==============================] - 3s - loss: 0.4239 - val_loss: 0.4183\n",
      "Epoch 13/100\n",
      "60000/60000 [==============================] - 3s - loss: 0.4129 - val_loss: 0.4079\n",
      "Epoch 14/100\n",
      "60000/60000 [==============================] - 3s - loss: 0.4030 - val_loss: 0.3986\n",
      "Epoch 15/100\n",
      "60000/60000 [==============================] - 3s - loss: 0.3942 - val_loss: 0.3902\n",
      "Epoch 16/100\n",
      "60000/60000 [==============================] - 3s - loss: 0.3862 - val_loss: 0.3826\n",
      "Epoch 17/100\n",
      "60000/60000 [==============================] - 3s - loss: 0.3790 - val_loss: 0.3758\n",
      "Epoch 18/100\n",
      "60000/60000 [==============================] - 3s - loss: 0.3725 - val_loss: 0.3696\n",
      "Epoch 19/100\n",
      "60000/60000 [==============================] - 3s - loss: 0.3665 - val_loss: 0.3639\n",
      "Epoch 20/100\n",
      "60000/60000 [==============================] - 3s - loss: 0.3611 - val_loss: 0.3587\n",
      "Epoch 21/100\n",
      "60000/60000 [==============================] - 3s - loss: 0.3561 - val_loss: 0.3539\n",
      "Epoch 22/100\n",
      "60000/60000 [==============================] - 3s - loss: 0.3516 - val_loss: 0.3496\n",
      "Epoch 23/100\n",
      "60000/60000 [==============================] - 3s - loss: 0.3474 - val_loss: 0.3455\n",
      "Epoch 24/100\n",
      "60000/60000 [==============================] - 3s - loss: 0.3435 - val_loss: 0.3418\n",
      "Epoch 25/100\n",
      "60000/60000 [==============================] - 3s - loss: 0.3399 - val_loss: 0.3384\n",
      "Epoch 26/100\n",
      "60000/60000 [==============================] - 3s - loss: 0.3366 - val_loss: 0.3352\n",
      "Epoch 27/100\n",
      "60000/60000 [==============================] - 3s - loss: 0.3335 - val_loss: 0.3322\n",
      "Epoch 28/100\n",
      "60000/60000 [==============================] - 3s - loss: 0.3307 - val_loss: 0.3295\n",
      "Epoch 29/100\n",
      "60000/60000 [==============================] - 3s - loss: 0.3280 - val_loss: 0.3269\n",
      "Epoch 30/100\n",
      "60000/60000 [==============================] - 3s - loss: 0.3255 - val_loss: 0.3245\n",
      "Epoch 31/100\n",
      "60000/60000 [==============================] - 3s - loss: 0.3232 - val_loss: 0.3222\n",
      "Epoch 32/100\n",
      "60000/60000 [==============================] - 3s - loss: 0.3210 - val_loss: 0.3201\n",
      "Epoch 33/100\n",
      "60000/60000 [==============================] - 3s - loss: 0.3189 - val_loss: 0.3181\n",
      "Epoch 34/100\n",
      "60000/60000 [==============================] - 3s - loss: 0.3170 - val_loss: 0.3162\n",
      "Epoch 35/100\n",
      "60000/60000 [==============================] - 3s - loss: 0.3152 - val_loss: 0.3145\n",
      "Epoch 36/100\n",
      "60000/60000 [==============================] - 3s - loss: 0.3135 - val_loss: 0.3128\n",
      "Epoch 37/100\n",
      "60000/60000 [==============================] - 3s - loss: 0.3119 - val_loss: 0.3112\n",
      "Epoch 38/100\n",
      "60000/60000 [==============================] - 3s - loss: 0.3103 - val_loss: 0.3097\n",
      "Epoch 39/100\n",
      "60000/60000 [==============================] - 3s - loss: 0.3089 - val_loss: 0.3083\n",
      "Epoch 40/100\n",
      "60000/60000 [==============================] - 3s - loss: 0.3075 - val_loss: 0.3070\n",
      "Epoch 41/100\n",
      "60000/60000 [==============================] - 3s - loss: 0.3062 - val_loss: 0.3057\n",
      "Epoch 42/100\n",
      "60000/60000 [==============================] - 3s - loss: 0.3050 - val_loss: 0.3045\n",
      "Epoch 43/100\n",
      "60000/60000 [==============================] - 3s - loss: 0.3038 - val_loss: 0.3034\n",
      "Epoch 44/100\n",
      "60000/60000 [==============================] - 3s - loss: 0.3027 - val_loss: 0.3023\n",
      "Epoch 45/100\n",
      "60000/60000 [==============================] - 3s - loss: 0.3016 - val_loss: 0.3012\n",
      "Epoch 46/100\n",
      "60000/60000 [==============================] - 3s - loss: 0.3006 - val_loss: 0.3002\n",
      "Epoch 47/100\n",
      "60000/60000 [==============================] - 2s - loss: 0.2997 - val_loss: 0.2993\n",
      "Epoch 48/100\n",
      "60000/60000 [==============================] - 2s - loss: 0.2987 - val_loss: 0.2984\n",
      "Epoch 49/100\n",
      "60000/60000 [==============================] - 3s - loss: 0.2979 - val_loss: 0.2975\n",
      "Epoch 50/100\n",
      "60000/60000 [==============================] - 3s - loss: 0.2970 - val_loss: 0.2967\n",
      "Epoch 51/100\n",
      "60000/60000 [==============================] - 3s - loss: 0.2962 - val_loss: 0.2959\n",
      "Epoch 52/100\n",
      "60000/60000 [==============================] - 3s - loss: 0.2954 - val_loss: 0.2951\n",
      "Epoch 53/100\n",
      "60000/60000 [==============================] - 3s - loss: 0.2947 - val_loss: 0.2944\n",
      "Epoch 54/100\n",
      "60000/60000 [==============================] - 3s - loss: 0.2940 - val_loss: 0.2937\n",
      "Epoch 55/100\n",
      "60000/60000 [==============================] - 3s - loss: 0.2933 - val_loss: 0.2930\n",
      "Epoch 56/100\n",
      "60000/60000 [==============================] - 3s - loss: 0.2926 - val_loss: 0.2924\n",
      "Epoch 57/100\n",
      "60000/60000 [==============================] - 3s - loss: 0.2920 - val_loss: 0.2917\n",
      "Epoch 58/100\n",
      "60000/60000 [==============================] - 3s - loss: 0.2914 - val_loss: 0.2911\n",
      "Epoch 59/100\n",
      "60000/60000 [==============================] - 3s - loss: 0.2908 - val_loss: 0.2906\n",
      "Epoch 60/100\n",
      "60000/60000 [==============================] - 3s - loss: 0.2902 - val_loss: 0.2900\n",
      "Epoch 61/100\n",
      "60000/60000 [==============================] - 3s - loss: 0.2897 - val_loss: 0.2895\n",
      "Epoch 62/100\n",
      "60000/60000 [==============================] - 3s - loss: 0.2892 - val_loss: 0.2889\n",
      "Epoch 63/100\n",
      "60000/60000 [==============================] - 3s - loss: 0.2886 - val_loss: 0.2884\n",
      "Epoch 64/100\n",
      "60000/60000 [==============================] - 3s - loss: 0.2882 - val_loss: 0.2880\n",
      "Epoch 65/100\n",
      "60000/60000 [==============================] - 3s - loss: 0.2877 - val_loss: 0.2875\n",
      "Epoch 66/100\n",
      "60000/60000 [==============================] - 3s - loss: 0.2872 - val_loss: 0.2870\n",
      "Epoch 67/100\n",
      "60000/60000 [==============================] - 3s - loss: 0.2868 - val_loss: 0.2866\n",
      "Epoch 68/100\n",
      "60000/60000 [==============================] - 3s - loss: 0.2864 - val_loss: 0.2862\n",
      "Epoch 69/100\n",
      "60000/60000 [==============================] - 3s - loss: 0.2859 - val_loss: 0.2858\n",
      "Epoch 70/100\n",
      "60000/60000 [==============================] - 3s - loss: 0.2855 - val_loss: 0.2854\n",
      "Epoch 71/100\n",
      "60000/60000 [==============================] - 3s - loss: 0.2851 - val_loss: 0.2850\n",
      "Epoch 72/100\n",
      "60000/60000 [==============================] - 3s - loss: 0.2848 - val_loss: 0.2846\n",
      "Epoch 73/100\n",
      "60000/60000 [==============================] - 3s - loss: 0.2844 - val_loss: 0.2842\n",
      "Epoch 74/100\n",
      "60000/60000 [==============================] - 3s - loss: 0.2840 - val_loss: 0.2839\n",
      "Epoch 75/100\n",
      "60000/60000 [==============================] - 3s - loss: 0.2837 - val_loss: 0.2835\n",
      "Epoch 76/100\n",
      "60000/60000 [==============================] - 3s - loss: 0.2834 - val_loss: 0.2832\n",
      "Epoch 77/100\n",
      "60000/60000 [==============================] - 4s - loss: 0.2830 - val_loss: 0.2829\n",
      "Epoch 78/100\n",
      "60000/60000 [==============================] - 4s - loss: 0.2827 - val_loss: 0.2826\n",
      "Epoch 79/100\n",
      "60000/60000 [==============================] - 4s - loss: 0.2824 - val_loss: 0.2823\n",
      "Epoch 80/100\n",
      "60000/60000 [==============================] - 4s - loss: 0.2821 - val_loss: 0.2820\n",
      "Epoch 81/100\n",
      "60000/60000 [==============================] - 4s - loss: 0.2818 - val_loss: 0.2817\n",
      "Epoch 82/100\n",
      "60000/60000 [==============================] - 4s - loss: 0.2815 - val_loss: 0.2814\n",
      "Epoch 83/100\n",
      "60000/60000 [==============================] - 4s - loss: 0.2813 - val_loss: 0.2811\n",
      "Epoch 84/100\n",
      "60000/60000 [==============================] - 4s - loss: 0.2810 - val_loss: 0.2808\n",
      "Epoch 85/100\n"
     ]
    },
    {
     "name": "stdout",
     "output_type": "stream",
     "text": [
      "60000/60000 [==============================] - 3s - loss: 0.2807 - val_loss: 0.2806\n",
      "Epoch 86/100\n",
      "60000/60000 [==============================] - 3s - loss: 0.2805 - val_loss: 0.2803\n",
      "Epoch 87/100\n",
      "60000/60000 [==============================] - 3s - loss: 0.2802 - val_loss: 0.2801\n",
      "Epoch 88/100\n",
      "60000/60000 [==============================] - 5s - loss: 0.2800 - val_loss: 0.2798\n",
      "Epoch 89/100\n",
      "60000/60000 [==============================] - 4s - loss: 0.2798 - val_loss: 0.2796\n",
      "Epoch 90/100\n",
      "60000/60000 [==============================] - 5s - loss: 0.2795 - val_loss: 0.2794\n",
      "Epoch 91/100\n",
      "60000/60000 [==============================] - 5s - loss: 0.2793 - val_loss: 0.2792\n",
      "Epoch 92/100\n",
      "60000/60000 [==============================] - 4s - loss: 0.2791 - val_loss: 0.2789\n",
      "Epoch 93/100\n",
      "60000/60000 [==============================] - 4s - loss: 0.2789 - val_loss: 0.2787\n",
      "Epoch 94/100\n",
      "60000/60000 [==============================] - 4s - loss: 0.2787 - val_loss: 0.2785\n",
      "Epoch 95/100\n",
      "60000/60000 [==============================] - 4s - loss: 0.2785 - val_loss: 0.2783\n",
      "Epoch 96/100\n",
      "60000/60000 [==============================] - 4s - loss: 0.2783 - val_loss: 0.2781\n",
      "Epoch 97/100\n",
      "60000/60000 [==============================] - 4s - loss: 0.2781 - val_loss: 0.2779\n",
      "Epoch 98/100\n",
      "60000/60000 [==============================] - 4s - loss: 0.2779 - val_loss: 0.2777\n",
      "Epoch 99/100\n",
      "60000/60000 [==============================] - 4s - loss: 0.2777 - val_loss: 0.2775\n",
      "Epoch 100/100\n",
      "60000/60000 [==============================] - 4s - loss: 0.2775 - val_loss: 0.2774\n"
     ]
    },
    {
     "data": {
      "text/plain": [
       "<keras.callbacks.History at 0x7f794f086390>"
      ]
     },
     "execution_count": 10,
     "metadata": {},
     "output_type": "execute_result"
    }
   ],
   "source": [
    "autoencoder.fit(x_train, x_train,\n",
    "                epochs=100,\n",
    "                batch_size=256,\n",
    "                shuffle=True,\n",
    "                validation_data=(x_test, x_test))"
   ]
  },
  {
   "cell_type": "code",
   "execution_count": 13,
   "metadata": {
    "collapsed": true
   },
   "outputs": [],
   "source": [
    "# encode and decode some digits\n",
    "# note that we take them from the *test* set\n",
    "encoded_imgs = encoder.predict(x_test)\n",
    "decoded_imgs = decoder.predict(encoded_imgs)"
   ]
  },
  {
   "cell_type": "code",
   "execution_count": 14,
   "metadata": {},
   "outputs": [
    {
     "data": {
      "image/png": "[encoded data removed]",
      "text/plain": [
       "<matplotlib.figure.Figure at 0x7f790c1af910>"
      ]
     },
     "metadata": {},
     "output_type": "display_data"
    }
   ],
   "source": [
    "# use Matplotlib (don't ask)\n",
    "\n",
    "n = 10  # how many digits we will display\n",
    "plt.figure(figsize=(20, 4))\n",
    "for i in range(n):\n",
    "    # display original\n",
    "    ax = plt.subplot(2, n, i + 1)\n",
    "    plt.imshow(x_test[i].reshape(28, 28))\n",
    "    plt.gray()\n",
    "    ax.get_xaxis().set_visible(False)\n",
    "    ax.get_yaxis().set_visible(False)\n",
    "\n",
    "    # display reconstruction\n",
    "    ax = plt.subplot(2, n, i + 1 + n)\n",
    "    plt.imshow(decoded_imgs[i].reshape(28, 28))\n",
    "    plt.gray()\n",
    "    ax.get_xaxis().set_visible(False)\n",
    "    ax.get_yaxis().set_visible(False)\n",
    "plt.show()"
   ]
  },
  {
   "cell_type": "code",
   "execution_count": null,
   "metadata": {
    "collapsed": true
   },
   "outputs": [],
   "source": []
  }
 ],
 "metadata": {
  "kernelspec": {
   "display_name": "Python 2",
   "language": "python",
   "name": "python2"
  },
  "language_info": {
   "codemirror_mode": {
    "name": "ipython",
    "version": 2
   },
   "file_extension": ".py",
   "mimetype": "text/x-python",
   "name": "python",
   "nbconvert_exporter": "python",
   "pygments_lexer": "ipython2",
   "version": "2.7.12"
  }
 },
 "nbformat": 4,
 "nbformat_minor": 2
}
