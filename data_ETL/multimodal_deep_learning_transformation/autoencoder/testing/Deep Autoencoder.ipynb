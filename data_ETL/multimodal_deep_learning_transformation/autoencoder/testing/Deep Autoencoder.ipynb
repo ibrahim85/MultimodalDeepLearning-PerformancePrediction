{
 "cells": [
  {
   "cell_type": "markdown",
   "metadata": {},
   "source": [
    "[Source](https://blog.keras.io/building-autoencoders-in-keras.html)"
   ]
  },
  {
   "cell_type": "code",
   "execution_count": 2,
   "metadata": {
    "scrolled": true
   },
   "outputs": [],
   "source": [
    "%matplotlib inline"
   ]
  },
  {
   "cell_type": "code",
   "execution_count": 36,
   "metadata": {},
   "outputs": [],
   "source": [
    "from keras.layers import Input, Dense\n",
    "from keras.models import Model\n",
    "from keras.datasets import mnist\n",
    "import numpy as np\n",
    "import matplotlib.pyplot as plt"
   ]
  },
  {
   "cell_type": "code",
   "execution_count": 47,
   "metadata": {},
   "outputs": [
    {
     "name": "stderr",
     "output_type": "stream",
     "text": [
      "/usr/local/lib/python2.7/dist-packages/ipykernel_launcher.py:20: UserWarning: Update your `Model` call to the Keras 2 API: `Model(outputs=Tensor(\"de..., inputs=Tensor(\"in...)`\n",
      "/usr/local/lib/python2.7/dist-packages/ipykernel_launcher.py:24: UserWarning: Update your `Model` call to the Keras 2 API: `Model(outputs=Tensor(\"de..., inputs=Tensor(\"in...)`\n",
      "/usr/local/lib/python2.7/dist-packages/ipykernel_launcher.py:35: UserWarning: Update your `Model` call to the Keras 2 API: `Model(outputs=Tensor(\"de..., inputs=Tensor(\"in...)`\n"
     ]
    }
   ],
   "source": [
    "# this is the size of the encoded representations\n",
    "encoding_dim = 32\n",
    "\n",
    "#INPUT LAYER\n",
    "input_img = Input(shape=(784,))\n",
    "\n",
    "#ENCODE LAYER\n",
    "# \"encoded\" is the encoded representation of the input\n",
    "encoded = Dense(encoding_dim*4, activation='relu')(input_img)\n",
    "encoded = Dense(encoding_dim*2, activation='relu')(encoded)\n",
    "encoded = Dense(encoding_dim, activation='relu')(encoded)\n",
    "\n",
    "#DECODED LAYER\n",
    "# \"decoded\" is the lossy reconstruction of the input\n",
    "decoded = Dense(encoding_dim*2, activation='relu')(encoded)\n",
    "decoded = Dense(encoding_dim*4, activation='relu')(decoded)\n",
    "decoded = Dense(784, activation='sigmoid')(decoded)\n",
    "\n",
    "#MODEL\n",
    "autoencoder = Model(input=input_img, output=decoded)\n",
    "\n",
    "\n",
    "#SEPERATE ENCODER MODEL\n",
    "encoder = Model(input=input_img, output=encoded)\n",
    "\n",
    "# create a placeholder for an encoded (32-dimensional) input\n",
    "encoded_input = Input(shape=(encoding_dim,))\n",
    "\n",
    "# retrieve the last layer of the autoencoder model\n",
    "decoder_layer1 = autoencoder.layers[-3]\n",
    "decoder_layer2 = autoencoder.layers[-2]\n",
    "decoder_layer3 = autoencoder.layers[-1]\n",
    "\n",
    "# create the decoder model\n",
    "decoder = Model(input=encoded_input, output=decoder_layer3(decoder_layer2(decoder_layer1(encoded_input))))\n",
    "\n",
    "# OLD retrieve the last layer of the autoencoder model\n",
    "# decoder_layer = autoencoder.layers[-1]\n",
    "\n",
    "# OLD create the decoder model\n",
    "# decoder = Model(input=encoded_input, output=decoder_layer(encoded_input))\n",
    "\n",
    "#COMPILER\n",
    "autoencoder.compile(optimizer='adadelta', loss='binary_crossentropy')"
   ]
  },
  {
   "cell_type": "code",
   "execution_count": 48,
   "metadata": {
    "scrolled": true
   },
   "outputs": [
    {
     "name": "stdout",
     "output_type": "stream",
     "text": [
      "Train on 60000 samples, validate on 10000 samples\n",
      "Epoch 1/100\n",
      "60000/60000 [==============================] - 4s - loss: 0.3723 - val_loss: 0.2636\n",
      "Epoch 2/100\n",
      "60000/60000 [==============================] - 4s - loss: 0.2578 - val_loss: 0.2503\n",
      "Epoch 3/100\n",
      "60000/60000 [==============================] - 4s - loss: 0.2425 - val_loss: 0.2338\n",
      "Epoch 4/100\n",
      "60000/60000 [==============================] - 5s - loss: 0.2257 - val_loss: 0.2156\n",
      "Epoch 5/100\n",
      "60000/60000 [==============================] - 4s - loss: 0.2081 - val_loss: 0.2006\n",
      "Epoch 6/100\n",
      "60000/60000 [==============================] - 5s - loss: 0.1973 - val_loss: 0.1922\n",
      "Epoch 7/100\n",
      "60000/60000 [==============================] - 5s - loss: 0.1881 - val_loss: 0.1837\n",
      "Epoch 8/100\n",
      "60000/60000 [==============================] - 5s - loss: 0.1810 - val_loss: 0.1783\n",
      "Epoch 9/100\n",
      "60000/60000 [==============================] - 4s - loss: 0.1750 - val_loss: 0.1703\n",
      "Epoch 10/100\n",
      "60000/60000 [==============================] - 4s - loss: 0.1698 - val_loss: 0.1661\n",
      "Epoch 11/100\n",
      "60000/60000 [==============================] - 4s - loss: 0.1660 - val_loss: 0.1618\n",
      "Epoch 12/100\n",
      "60000/60000 [==============================] - 4s - loss: 0.1625 - val_loss: 0.1602\n",
      "Epoch 13/100\n",
      "60000/60000 [==============================] - 4s - loss: 0.1591 - val_loss: 0.1569\n",
      "Epoch 14/100\n",
      "60000/60000 [==============================] - 4s - loss: 0.1556 - val_loss: 0.1535\n",
      "Epoch 15/100\n",
      "60000/60000 [==============================] - 4s - loss: 0.1522 - val_loss: 0.1495\n",
      "Epoch 16/100\n",
      "60000/60000 [==============================] - 4s - loss: 0.1488 - val_loss: 0.1445\n",
      "Epoch 17/100\n",
      "60000/60000 [==============================] - 4s - loss: 0.1458 - val_loss: 0.1433\n",
      "Epoch 18/100\n",
      "60000/60000 [==============================] - 4s - loss: 0.1436 - val_loss: 0.1420\n",
      "Epoch 19/100\n",
      "60000/60000 [==============================] - 4s - loss: 0.1418 - val_loss: 0.1394\n",
      "Epoch 20/100\n",
      "60000/60000 [==============================] - 4s - loss: 0.1400 - val_loss: 0.1384\n",
      "Epoch 21/100\n",
      "60000/60000 [==============================] - 4s - loss: 0.1385 - val_loss: 0.1364\n",
      "Epoch 22/100\n",
      "60000/60000 [==============================] - 4s - loss: 0.1369 - val_loss: 0.1357\n",
      "Epoch 23/100\n",
      "60000/60000 [==============================] - 4s - loss: 0.1358 - val_loss: 0.1346\n",
      "Epoch 24/100\n",
      "60000/60000 [==============================] - 4s - loss: 0.1346 - val_loss: 0.1327\n",
      "Epoch 25/100\n",
      "60000/60000 [==============================] - 4s - loss: 0.1335 - val_loss: 0.1310\n",
      "Epoch 26/100\n",
      "60000/60000 [==============================] - 4s - loss: 0.1322 - val_loss: 0.1301\n",
      "Epoch 27/100\n",
      "60000/60000 [==============================] - 4s - loss: 0.1312 - val_loss: 0.1292\n",
      "Epoch 28/100\n",
      "60000/60000 [==============================] - 4s - loss: 0.1299 - val_loss: 0.1286\n",
      "Epoch 29/100\n",
      "60000/60000 [==============================] - 4s - loss: 0.1289 - val_loss: 0.1271\n",
      "Epoch 30/100\n",
      "60000/60000 [==============================] - 4s - loss: 0.1279 - val_loss: 0.1256\n",
      "Epoch 31/100\n",
      "60000/60000 [==============================] - 4s - loss: 0.1268 - val_loss: 0.1256\n",
      "Epoch 32/100\n",
      "60000/60000 [==============================] - 4s - loss: 0.1259 - val_loss: 0.1240\n",
      "Epoch 33/100\n",
      "60000/60000 [==============================] - 4s - loss: 0.1251 - val_loss: 0.1225\n",
      "Epoch 34/100\n",
      "60000/60000 [==============================] - 4s - loss: 0.1243 - val_loss: 0.1228\n",
      "Epoch 35/100\n",
      "60000/60000 [==============================] - 4s - loss: 0.1238 - val_loss: 0.1214\n",
      "Epoch 36/100\n",
      "60000/60000 [==============================] - 4s - loss: 0.1230 - val_loss: 0.1211\n",
      "Epoch 37/100\n",
      "60000/60000 [==============================] - 4s - loss: 0.1224 - val_loss: 0.1204\n",
      "Epoch 38/100\n",
      "60000/60000 [==============================] - 4s - loss: 0.1217 - val_loss: 0.1198\n",
      "Epoch 39/100\n",
      "60000/60000 [==============================] - 4s - loss: 0.1211 - val_loss: 0.1192\n",
      "Epoch 40/100\n",
      "60000/60000 [==============================] - 4s - loss: 0.1205 - val_loss: 0.1190\n",
      "Epoch 41/100\n",
      "60000/60000 [==============================] - 4s - loss: 0.1201 - val_loss: 0.1185\n",
      "Epoch 42/100\n",
      "60000/60000 [==============================] - 5s - loss: 0.1196 - val_loss: 0.1180\n",
      "Epoch 43/100\n",
      "60000/60000 [==============================] - 4s - loss: 0.1191 - val_loss: 0.1176\n",
      "Epoch 44/100\n",
      "60000/60000 [==============================] - 4s - loss: 0.1186 - val_loss: 0.1173\n",
      "Epoch 45/100\n",
      "60000/60000 [==============================] - 4s - loss: 0.1181 - val_loss: 0.1161\n",
      "Epoch 46/100\n",
      "60000/60000 [==============================] - 4s - loss: 0.1177 - val_loss: 0.1162\n",
      "Epoch 47/100\n",
      "60000/60000 [==============================] - 4s - loss: 0.1170 - val_loss: 0.1157\n",
      "Epoch 48/100\n",
      "60000/60000 [==============================] - 4s - loss: 0.1166 - val_loss: 0.1149\n",
      "Epoch 49/100\n",
      "60000/60000 [==============================] - 4s - loss: 0.1163 - val_loss: 0.1142\n",
      "Epoch 50/100\n",
      "60000/60000 [==============================] - 4s - loss: 0.1157 - val_loss: 0.1147\n",
      "Epoch 51/100\n",
      "60000/60000 [==============================] - 4s - loss: 0.1152 - val_loss: 0.1138\n",
      "Epoch 52/100\n",
      "60000/60000 [==============================] - 4s - loss: 0.1147 - val_loss: 0.1136\n",
      "Epoch 53/100\n",
      "60000/60000 [==============================] - 4s - loss: 0.1143 - val_loss: 0.1125\n",
      "Epoch 54/100\n",
      "60000/60000 [==============================] - 4s - loss: 0.1140 - val_loss: 0.1124\n",
      "Epoch 55/100\n",
      "60000/60000 [==============================] - 4s - loss: 0.1134 - val_loss: 0.1115\n",
      "Epoch 56/100\n",
      "60000/60000 [==============================] - 5s - loss: 0.1130 - val_loss: 0.1116\n",
      "Epoch 57/100\n",
      "60000/60000 [==============================] - 5s - loss: 0.1126 - val_loss: 0.1116\n",
      "Epoch 58/100\n",
      "60000/60000 [==============================] - 6s - loss: 0.1123 - val_loss: 0.1114\n",
      "Epoch 59/100\n",
      "60000/60000 [==============================] - 5s - loss: 0.1119 - val_loss: 0.1097\n",
      "Epoch 60/100\n",
      "60000/60000 [==============================] - 4s - loss: 0.1116 - val_loss: 0.1103\n",
      "Epoch 61/100\n",
      "60000/60000 [==============================] - 4s - loss: 0.1113 - val_loss: 0.1091\n",
      "Epoch 62/100\n",
      "60000/60000 [==============================] - 4s - loss: 0.1108 - val_loss: 0.1088\n",
      "Epoch 63/100\n",
      "60000/60000 [==============================] - 4s - loss: 0.1104 - val_loss: 0.1111\n",
      "Epoch 64/100\n",
      "60000/60000 [==============================] - 4s - loss: 0.1102 - val_loss: 0.1080\n",
      "Epoch 65/100\n",
      "60000/60000 [==============================] - 4s - loss: 0.1099 - val_loss: 0.1086\n",
      "Epoch 66/100\n",
      "60000/60000 [==============================] - 4s - loss: 0.1094 - val_loss: 0.1085\n",
      "Epoch 67/100\n",
      "60000/60000 [==============================] - 4s - loss: 0.1092 - val_loss: 0.1091\n",
      "Epoch 68/100\n",
      "60000/60000 [==============================] - 4s - loss: 0.1089 - val_loss: 0.1075\n",
      "Epoch 69/100\n",
      "60000/60000 [==============================] - 4s - loss: 0.1086 - val_loss: 0.1074\n",
      "Epoch 70/100\n",
      "60000/60000 [==============================] - 4s - loss: 0.1083 - val_loss: 0.1071\n",
      "Epoch 71/100\n",
      "60000/60000 [==============================] - 4s - loss: 0.1081 - val_loss: 0.1073\n",
      "Epoch 72/100\n",
      "60000/60000 [==============================] - 4s - loss: 0.1077 - val_loss: 0.1066\n",
      "Epoch 73/100\n",
      "60000/60000 [==============================] - 4s - loss: 0.1076 - val_loss: 0.1055\n",
      "Epoch 74/100\n",
      "60000/60000 [==============================] - 4s - loss: 0.1071 - val_loss: 0.1058\n",
      "Epoch 75/100\n",
      "60000/60000 [==============================] - 4s - loss: 0.1069 - val_loss: 0.1066\n",
      "Epoch 76/100\n",
      "60000/60000 [==============================] - 4s - loss: 0.1067 - val_loss: 0.1062\n",
      "Epoch 77/100\n",
      "60000/60000 [==============================] - 4s - loss: 0.1065 - val_loss: 0.1053\n",
      "Epoch 78/100\n",
      "60000/60000 [==============================] - 4s - loss: 0.1062 - val_loss: 0.1048\n",
      "Epoch 79/100\n",
      "60000/60000 [==============================] - 4s - loss: 0.1060 - val_loss: 0.1049\n",
      "Epoch 80/100\n",
      "60000/60000 [==============================] - 4s - loss: 0.1057 - val_loss: 0.1054\n",
      "Epoch 81/100\n",
      "60000/60000 [==============================] - 4s - loss: 0.1055 - val_loss: 0.1054\n",
      "Epoch 82/100\n",
      "60000/60000 [==============================] - 4s - loss: 0.1051 - val_loss: 0.1040\n",
      "Epoch 83/100\n",
      "60000/60000 [==============================] - 4s - loss: 0.1049 - val_loss: 0.1029\n",
      "Epoch 84/100\n",
      "60000/60000 [==============================] - 4s - loss: 0.1047 - val_loss: 0.1032\n",
      "Epoch 85/100\n"
     ]
    },
    {
     "name": "stdout",
     "output_type": "stream",
     "text": [
      "60000/60000 [==============================] - 4s - loss: 0.1045 - val_loss: 0.1037\n",
      "Epoch 86/100\n",
      "60000/60000 [==============================] - 4s - loss: 0.1041 - val_loss: 0.1041\n",
      "Epoch 87/100\n",
      "60000/60000 [==============================] - 4s - loss: 0.1039 - val_loss: 0.1038\n",
      "Epoch 88/100\n",
      "60000/60000 [==============================] - 4s - loss: 0.1037 - val_loss: 0.1016\n",
      "Epoch 89/100\n",
      "60000/60000 [==============================] - 4s - loss: 0.1034 - val_loss: 0.1035\n",
      "Epoch 90/100\n",
      "60000/60000 [==============================] - 4s - loss: 0.1031 - val_loss: 0.1014\n",
      "Epoch 91/100\n",
      "60000/60000 [==============================] - 4s - loss: 0.1028 - val_loss: 0.1023\n",
      "Epoch 92/100\n",
      "60000/60000 [==============================] - 4s - loss: 0.1026 - val_loss: 0.1017\n",
      "Epoch 93/100\n",
      "60000/60000 [==============================] - 4s - loss: 0.1024 - val_loss: 0.1015\n",
      "Epoch 94/100\n",
      "60000/60000 [==============================] - 4s - loss: 0.1022 - val_loss: 0.1019\n",
      "Epoch 95/100\n",
      "60000/60000 [==============================] - 4s - loss: 0.1021 - val_loss: 0.0999\n",
      "Epoch 96/100\n",
      "60000/60000 [==============================] - 4s - loss: 0.1019 - val_loss: 0.1010\n",
      "Epoch 97/100\n",
      "60000/60000 [==============================] - 4s - loss: 0.1017 - val_loss: 0.1013\n",
      "Epoch 98/100\n",
      "60000/60000 [==============================] - 4s - loss: 0.1014 - val_loss: 0.1006\n",
      "Epoch 99/100\n",
      "60000/60000 [==============================] - 4s - loss: 0.1013 - val_loss: 0.1010\n",
      "Epoch 100/100\n",
      "60000/60000 [==============================] - 4s - loss: 0.1011 - val_loss: 0.0999\n"
     ]
    },
    {
     "data": {
      "text/plain": [
       "<keras.callbacks.History at 0x7fda1de57c10>"
      ]
     },
     "execution_count": 48,
     "metadata": {},
     "output_type": "execute_result"
    }
   ],
   "source": [
    "autoencoder.fit(x_train, x_train,\n",
    "                epochs=100,\n",
    "                batch_size=256,\n",
    "                shuffle=True,\n",
    "                validation_data=(x_test, x_test))"
   ]
  },
  {
   "cell_type": "code",
   "execution_count": 49,
   "metadata": {},
   "outputs": [],
   "source": [
    "# encode and decode some digits\n",
    "# note that we take them from the *test* set\n",
    "encoded_imgs = encoder.predict(x_test)\n",
    "decoded_imgs = decoder.predict(encoded_imgs)"
   ]
  },
  {
   "cell_type": "code",
   "execution_count": 50,
   "metadata": {},
   "outputs": [
    {
     "data": {
      "image/png": "[encoded data removed]",
      "text/plain": [
       "<matplotlib.figure.Figure at 0x7fda1dc2ebd0>"
      ]
     },
     "metadata": {},
     "output_type": "display_data"
    }
   ],
   "source": [
    "# use Matplotlib (don't ask)\n",
    "\n",
    "n = 10  # how many digits we will display\n",
    "plt.figure(figsize=(20, 4))\n",
    "for i in range(n):\n",
    "    # display original\n",
    "    ax = plt.subplot(2, n, i + 1)\n",
    "    plt.imshow(x_test[i].reshape(28, 28))\n",
    "    plt.gray()\n",
    "    ax.get_xaxis().set_visible(False)\n",
    "    ax.get_yaxis().set_visible(False)\n",
    "\n",
    "    # display reconstruction\n",
    "    ax = plt.subplot(2, n, i + 1 + n)\n",
    "    plt.imshow(decoded_imgs[i].reshape(28, 28))\n",
    "    plt.gray()\n",
    "    ax.get_xaxis().set_visible(False)\n",
    "    ax.get_yaxis().set_visible(False)\n",
    "plt.show()"
   ]
  },
  {
   "cell_type": "code",
   "execution_count": null,
   "metadata": {
    "collapsed": true
   },
   "outputs": [],
   "source": []
  },
  {
   "cell_type": "code",
   "execution_count": null,
   "metadata": {
    "collapsed": true
   },
   "outputs": [],
   "source": []
  },
  {
   "cell_type": "code",
   "execution_count": null,
   "metadata": {
    "collapsed": true
   },
   "outputs": [],
   "source": []
  },
  {
   "cell_type": "markdown",
   "metadata": {},
   "source": [
    "# old stuff"
   ]
  },
  {
   "cell_type": "code",
   "execution_count": 37,
   "metadata": {},
   "outputs": [],
   "source": [
    "encoding_dim = 32\n",
    "\n",
    "input_img = Input(shape=(784,))\n",
    "encoded = Dense(encoding_dim, activation='relu')(input_img)\n",
    "encoded = Dense(64, activation='relu')(encoded)\n",
    "encoded = Dense(32, activation='relu')(encoded)\n",
    "\n",
    "decoded = Dense(64, activation='relu')(encoded)\n",
    "decoded = Dense(128, activation='relu')(decoded)\n",
    "decoded = Dense(784, activation='sigmoid')(decoded)\n",
    "\n",
    "autoencoder = Model(input_img, decoded)"
   ]
  },
  {
   "cell_type": "code",
   "execution_count": 38,
   "metadata": {
    "collapsed": true
   },
   "outputs": [],
   "source": [
    "# this model maps an input to its encoded representation\n",
    "encoder = Model(input_img, encoded)"
   ]
  },
  {
   "cell_type": "code",
   "execution_count": 42,
   "metadata": {},
   "outputs": [
    {
     "name": "stderr",
     "output_type": "stream",
     "text": [
      "/usr/local/lib/python2.7/dist-packages/ipykernel_launcher.py:12: UserWarning: Update your `Model` call to the Keras 2 API: `Model(outputs=Tensor(\"de..., inputs=Tensor(\"in...)`\n",
      "  if sys.path[0] == '':\n",
      "/usr/local/lib/python2.7/dist-packages/ipykernel_launcher.py:13: UserWarning: Update your `Model` call to the Keras 2 API: `Model(outputs=Tensor(\"de..., inputs=Tensor(\"in...)`\n",
      "  del sys.path[0]\n",
      "/usr/local/lib/python2.7/dist-packages/ipykernel_launcher.py:14: UserWarning: Update your `Model` call to the Keras 2 API: `Model(outputs=Tensor(\"de..., inputs=Tensor(\"in...)`\n",
      "  \n"
     ]
    }
   ],
   "source": [
    "# create a placeholder for an encoded (32-dimensional) input\n",
    "encoded_input_1 = Input(shape=(32,))\n",
    "encoded_input_2 = Input(shape=(64,))\n",
    "encoded_input_3 = Input(shape=(128,))\n",
    "\n",
    "# retrieve the last layer of the autoencoder model\n",
    "decoder_layer_1 = autoencoder.layers[-3]\n",
    "decoder_layer_2 = autoencoder.layers[-2]\n",
    "decoder_layer_3 = autoencoder.layers[-1]\n",
    "\n",
    "# create the decoder model\n",
    "decoder_1 = Model(input=encoded_input_1, output=decoder_layer_1(encoded_input_1))\n",
    "decoder_2 = Model(input=encoded_input_2, output=decoder_layer_2(encoded_input_2))\n",
    "decoder_3 = Model(input=encoded_input_3, output=decoder_layer_3(encoded_input_3))"
   ]
  },
  {
   "cell_type": "code",
   "execution_count": 39,
   "metadata": {
    "scrolled": true
   },
   "outputs": [
    {
     "ename": "ValueError",
     "evalue": "Input 0 is incompatible with layer dense_36: expected axis -1 of input shape to have value 128 but got shape (None, 32)",
     "output_type": "error",
     "traceback": [
      "\u001b[0;31m---------------------------------------------------------------------------\u001b[0m",
      "\u001b[0;31mValueError\u001b[0m                                Traceback (most recent call last)",
      "\u001b[0;32m<ipython-input-39-4cfdba66904d>\u001b[0m in \u001b[0;36m<module>\u001b[0;34m()\u001b[0m\n\u001b[1;32m      4\u001b[0m \u001b[0mdecoder_layer\u001b[0m \u001b[0;34m=\u001b[0m \u001b[0mautoencoder\u001b[0m\u001b[0;34m.\u001b[0m\u001b[0mlayers\u001b[0m\u001b[0;34m[\u001b[0m\u001b[0;34m-\u001b[0m\u001b[0;36m1\u001b[0m\u001b[0;34m]\u001b[0m\u001b[0;34m\u001b[0m\u001b[0m\n\u001b[1;32m      5\u001b[0m \u001b[0;31m# create the decoder model\u001b[0m\u001b[0;34m\u001b[0m\u001b[0;34m\u001b[0m\u001b[0m\n\u001b[0;32m----> 6\u001b[0;31m \u001b[0mdecoder\u001b[0m \u001b[0;34m=\u001b[0m \u001b[0mModel\u001b[0m\u001b[0;34m(\u001b[0m\u001b[0mencoded_input\u001b[0m\u001b[0;34m,\u001b[0m \u001b[0mdecoder_layer\u001b[0m\u001b[0;34m(\u001b[0m\u001b[0mencoded_input\u001b[0m\u001b[0;34m)\u001b[0m\u001b[0;34m)\u001b[0m\u001b[0;34m\u001b[0m\u001b[0m\n\u001b[0m\u001b[1;32m      7\u001b[0m \u001b[0;34m\u001b[0m\u001b[0m\n\u001b[1;32m      8\u001b[0m \u001b[0;34m\u001b[0m\u001b[0m\n",
      "\u001b[0;32m/usr/local/lib/python2.7/dist-packages/keras/engine/topology.pyc\u001b[0m in \u001b[0;36m__call__\u001b[0;34m(self, inputs, **kwargs)\u001b[0m\n\u001b[1;32m    567\u001b[0m             \u001b[0;31m# Raise exceptions in case the input is not compatible\u001b[0m\u001b[0;34m\u001b[0m\u001b[0;34m\u001b[0m\u001b[0m\n\u001b[1;32m    568\u001b[0m             \u001b[0;31m# with the input_spec set at build time.\u001b[0m\u001b[0;34m\u001b[0m\u001b[0;34m\u001b[0m\u001b[0m\n\u001b[0;32m--> 569\u001b[0;31m             \u001b[0mself\u001b[0m\u001b[0;34m.\u001b[0m\u001b[0massert_input_compatibility\u001b[0m\u001b[0;34m(\u001b[0m\u001b[0minputs\u001b[0m\u001b[0;34m)\u001b[0m\u001b[0;34m\u001b[0m\u001b[0m\n\u001b[0m\u001b[1;32m    570\u001b[0m \u001b[0;34m\u001b[0m\u001b[0m\n\u001b[1;32m    571\u001b[0m             \u001b[0;31m# Handle mask propagation.\u001b[0m\u001b[0;34m\u001b[0m\u001b[0;34m\u001b[0m\u001b[0m\n",
      "\u001b[0;32m/usr/local/lib/python2.7/dist-packages/keras/engine/topology.pyc\u001b[0m in \u001b[0;36massert_input_compatibility\u001b[0;34m(self, inputs)\u001b[0m\n\u001b[1;32m    477\u001b[0m                                              \u001b[0mstr\u001b[0m\u001b[0;34m(\u001b[0m\u001b[0maxis\u001b[0m\u001b[0;34m)\u001b[0m \u001b[0;34m+\u001b[0m \u001b[0;34m' of input shape to have '\u001b[0m\u001b[0;34m\u001b[0m\u001b[0m\n\u001b[1;32m    478\u001b[0m                                              \u001b[0;34m'value '\u001b[0m \u001b[0;34m+\u001b[0m \u001b[0mstr\u001b[0m\u001b[0;34m(\u001b[0m\u001b[0mvalue\u001b[0m\u001b[0;34m)\u001b[0m \u001b[0;34m+\u001b[0m\u001b[0;34m\u001b[0m\u001b[0m\n\u001b[0;32m--> 479\u001b[0;31m                                              ' but got shape ' + str(x_shape))\n\u001b[0m\u001b[1;32m    480\u001b[0m             \u001b[0;31m# Check shape.\u001b[0m\u001b[0;34m\u001b[0m\u001b[0;34m\u001b[0m\u001b[0m\n\u001b[1;32m    481\u001b[0m             \u001b[0;32mif\u001b[0m \u001b[0mspec\u001b[0m\u001b[0;34m.\u001b[0m\u001b[0mshape\u001b[0m \u001b[0;32mis\u001b[0m \u001b[0;32mnot\u001b[0m \u001b[0mNone\u001b[0m\u001b[0;34m:\u001b[0m\u001b[0;34m\u001b[0m\u001b[0m\n",
      "\u001b[0;31mValueError\u001b[0m: Input 0 is incompatible with layer dense_36: expected axis -1 of input shape to have value 128 but got shape (None, 32)"
     ]
    }
   ],
   "source": [
    "# create a placeholder for an encoded (32-dimensional) input\n",
    "encoded_input = Input(shape=(encoding_dim,))\n",
    "# retrieve the last layer of the autoencoder model\n",
    "decoder_layer = autoencoder.layers[-1]\n",
    "# create the decoder model\n",
    "decoder = Model(encoded_input, decoder_layer(encoded_input))\n",
    "\n",
    "\n",
    "#===================================\n",
    "# encoding_dim = 128\n",
    "\n",
    "# # this model maps an input to its encoded representation\n",
    "# encoder = Model(input_img, encoded)\n",
    "\n",
    "# # create a placeholder for an encoded (32-dimensional) input\n",
    "# encoded_input = Input(shape=(encoding_dim,))\n",
    "# # retrieve the last layer of the autoencoder model\n",
    "# decoder_layer = autoencoder.layers[-1]\n",
    "\n",
    "# decoded_input = Input(shape=(decoding_dim,))\n",
    "# # create the decoder model\n",
    "# decoder = Model(decoded_input, decoder_layer(decoded_input))"
   ]
  },
  {
   "cell_type": "code",
   "execution_count": 43,
   "metadata": {
    "collapsed": true
   },
   "outputs": [],
   "source": [
    "autoencoder.compile(optimizer='adadelta', loss='binary_crossentropy')"
   ]
  },
  {
   "cell_type": "code",
   "execution_count": 44,
   "metadata": {},
   "outputs": [],
   "source": [
    "(x_train, _), (x_test, _) = mnist.load_data()"
   ]
  },
  {
   "cell_type": "code",
   "execution_count": 45,
   "metadata": {},
   "outputs": [
    {
     "name": "stdout",
     "output_type": "stream",
     "text": [
      "(60000, 784)\n",
      "(10000, 784)\n"
     ]
    }
   ],
   "source": [
    "x_train = x_train.astype('float32') / 255.\n",
    "x_test = x_test.astype('float32') / 255.\n",
    "x_train = x_train.reshape((len(x_train), np.prod(x_train.shape[1:])))\n",
    "x_test = x_test.reshape((len(x_test), np.prod(x_test.shape[1:])))\n",
    "print x_train.shape\n",
    "print x_test.shape"
   ]
  },
  {
   "cell_type": "code",
   "execution_count": 46,
   "metadata": {
    "scrolled": true
   },
   "outputs": [
    {
     "name": "stdout",
     "output_type": "stream",
     "text": [
      "Train on 60000 samples, validate on 10000 samples\n",
      "Epoch 1/100\n",
      "60000/60000 [==============================] - 4s - loss: 0.3455 - val_loss: 0.2650\n",
      "Epoch 2/100\n",
      "60000/60000 [==============================] - 4s - loss: 0.2604 - val_loss: 0.2564\n",
      "Epoch 3/100\n",
      "60000/60000 [==============================] - 5s - loss: 0.2499 - val_loss: 0.2423\n",
      "Epoch 4/100\n",
      "60000/60000 [==============================] - 4s - loss: 0.2341 - val_loss: 0.2270\n",
      "Epoch 5/100\n",
      "60000/60000 [==============================] - 4s - loss: 0.2220 - val_loss: 0.2147\n",
      "Epoch 6/100\n",
      "60000/60000 [==============================] - 3s - loss: 0.2105 - val_loss: 0.2036\n",
      "Epoch 7/100\n",
      "60000/60000 [==============================] - 3s - loss: 0.2010 - val_loss: 0.1959\n",
      "Epoch 8/100\n",
      "60000/60000 [==============================] - 3s - loss: 0.1935 - val_loss: 0.1886\n",
      "Epoch 9/100\n",
      "60000/60000 [==============================] - 3s - loss: 0.1866 - val_loss: 0.1825\n",
      "Epoch 10/100\n",
      "60000/60000 [==============================] - 3s - loss: 0.1817 - val_loss: 0.1783\n",
      "Epoch 11/100\n",
      "60000/60000 [==============================] - 4s - loss: 0.1778 - val_loss: 0.1741\n",
      "Epoch 12/100\n",
      "60000/60000 [==============================] - 4s - loss: 0.1744 - val_loss: 0.1717\n",
      "Epoch 13/100\n",
      "60000/60000 [==============================] - 4s - loss: 0.1712 - val_loss: 0.1693\n",
      "Epoch 14/100\n",
      "60000/60000 [==============================] - 4s - loss: 0.1680 - val_loss: 0.1648\n",
      "Epoch 15/100\n",
      "60000/60000 [==============================] - 4s - loss: 0.1644 - val_loss: 0.1619\n",
      "Epoch 16/100\n",
      "60000/60000 [==============================] - 4s - loss: 0.1609 - val_loss: 0.1576\n",
      "Epoch 17/100\n",
      "60000/60000 [==============================] - 4s - loss: 0.1577 - val_loss: 0.1556\n",
      "Epoch 18/100\n",
      "60000/60000 [==============================] - 3s - loss: 0.1549 - val_loss: 0.1563\n",
      "Epoch 19/100\n",
      "60000/60000 [==============================] - 3s - loss: 0.1525 - val_loss: 0.1502\n",
      "Epoch 20/100\n",
      "60000/60000 [==============================] - 4s - loss: 0.1505 - val_loss: 0.1488\n",
      "Epoch 21/100\n",
      "60000/60000 [==============================] - 4s - loss: 0.1489 - val_loss: 0.1469\n",
      "Epoch 22/100\n",
      "60000/60000 [==============================] - 4s - loss: 0.1474 - val_loss: 0.1448\n",
      "Epoch 23/100\n",
      "60000/60000 [==============================] - 4s - loss: 0.1460 - val_loss: 0.1432\n",
      "Epoch 24/100\n",
      "60000/60000 [==============================] - 4s - loss: 0.1447 - val_loss: 0.1434\n",
      "Epoch 25/100\n",
      "60000/60000 [==============================] - 3s - loss: 0.1434 - val_loss: 0.1404\n",
      "Epoch 26/100\n",
      "60000/60000 [==============================] - 4s - loss: 0.1420 - val_loss: 0.1399\n",
      "Epoch 27/100\n",
      "60000/60000 [==============================] - 4s - loss: 0.1406 - val_loss: 0.1383\n",
      "Epoch 28/100\n",
      "60000/60000 [==============================] - 3s - loss: 0.1393 - val_loss: 0.1377\n",
      "Epoch 29/100\n",
      "60000/60000 [==============================] - 3s - loss: 0.1381 - val_loss: 0.1369\n",
      "Epoch 30/100\n",
      "60000/60000 [==============================] - 3s - loss: 0.1370 - val_loss: 0.1348\n",
      "Epoch 31/100\n",
      "60000/60000 [==============================] - 4s - loss: 0.1359 - val_loss: 0.1343\n",
      "Epoch 32/100\n",
      "60000/60000 [==============================] - 3s - loss: 0.1350 - val_loss: 0.1338\n",
      "Epoch 33/100\n",
      "60000/60000 [==============================] - 3s - loss: 0.1341 - val_loss: 0.1318\n",
      "Epoch 34/100\n",
      "60000/60000 [==============================] - 4s - loss: 0.1331 - val_loss: 0.1309\n",
      "Epoch 35/100\n",
      "60000/60000 [==============================] - 4s - loss: 0.1323 - val_loss: 0.1307\n",
      "Epoch 36/100\n",
      "60000/60000 [==============================] - 3s - loss: 0.1315 - val_loss: 0.1295\n",
      "Epoch 37/100\n",
      "60000/60000 [==============================] - 4s - loss: 0.1307 - val_loss: 0.1294\n",
      "Epoch 38/100\n",
      "60000/60000 [==============================] - 4s - loss: 0.1299 - val_loss: 0.1282\n",
      "Epoch 39/100\n",
      "60000/60000 [==============================] - 4s - loss: 0.1291 - val_loss: 0.1275\n",
      "Epoch 40/100\n",
      "55040/60000 [==========================>...] - ETA: 0s - loss: 0.1283"
     ]
    },
    {
     "ename": "KeyboardInterrupt",
     "evalue": "",
     "output_type": "error",
     "traceback": [
      "\u001b[0;31m---------------------------------------------------------------------------\u001b[0m",
      "\u001b[0;31mKeyboardInterrupt\u001b[0m                         Traceback (most recent call last)",
      "\u001b[0;32m<ipython-input-46-e8b45f29d7d4>\u001b[0m in \u001b[0;36m<module>\u001b[0;34m()\u001b[0m\n\u001b[1;32m      3\u001b[0m                 \u001b[0mbatch_size\u001b[0m\u001b[0;34m=\u001b[0m\u001b[0;36m256\u001b[0m\u001b[0;34m,\u001b[0m\u001b[0;34m\u001b[0m\u001b[0m\n\u001b[1;32m      4\u001b[0m                 \u001b[0mshuffle\u001b[0m\u001b[0;34m=\u001b[0m\u001b[0mTrue\u001b[0m\u001b[0;34m,\u001b[0m\u001b[0;34m\u001b[0m\u001b[0m\n\u001b[0;32m----> 5\u001b[0;31m                 validation_data=(x_test, x_test))\n\u001b[0m",
      "\u001b[0;32m/usr/local/lib/python2.7/dist-packages/keras/engine/training.pyc\u001b[0m in \u001b[0;36mfit\u001b[0;34m(self, x, y, batch_size, epochs, verbose, callbacks, validation_split, validation_data, shuffle, class_weight, sample_weight, initial_epoch, **kwargs)\u001b[0m\n\u001b[1;32m   1496\u001b[0m                               \u001b[0mval_f\u001b[0m\u001b[0;34m=\u001b[0m\u001b[0mval_f\u001b[0m\u001b[0;34m,\u001b[0m \u001b[0mval_ins\u001b[0m\u001b[0;34m=\u001b[0m\u001b[0mval_ins\u001b[0m\u001b[0;34m,\u001b[0m \u001b[0mshuffle\u001b[0m\u001b[0;34m=\u001b[0m\u001b[0mshuffle\u001b[0m\u001b[0;34m,\u001b[0m\u001b[0;34m\u001b[0m\u001b[0m\n\u001b[1;32m   1497\u001b[0m                               \u001b[0mcallback_metrics\u001b[0m\u001b[0;34m=\u001b[0m\u001b[0mcallback_metrics\u001b[0m\u001b[0;34m,\u001b[0m\u001b[0;34m\u001b[0m\u001b[0m\n\u001b[0;32m-> 1498\u001b[0;31m                               initial_epoch=initial_epoch)\n\u001b[0m\u001b[1;32m   1499\u001b[0m \u001b[0;34m\u001b[0m\u001b[0m\n\u001b[1;32m   1500\u001b[0m     \u001b[0;32mdef\u001b[0m \u001b[0mevaluate\u001b[0m\u001b[0;34m(\u001b[0m\u001b[0mself\u001b[0m\u001b[0;34m,\u001b[0m \u001b[0mx\u001b[0m\u001b[0;34m,\u001b[0m \u001b[0my\u001b[0m\u001b[0;34m,\u001b[0m \u001b[0mbatch_size\u001b[0m\u001b[0;34m=\u001b[0m\u001b[0;36m32\u001b[0m\u001b[0;34m,\u001b[0m \u001b[0mverbose\u001b[0m\u001b[0;34m=\u001b[0m\u001b[0;36m1\u001b[0m\u001b[0;34m,\u001b[0m \u001b[0msample_weight\u001b[0m\u001b[0;34m=\u001b[0m\u001b[0mNone\u001b[0m\u001b[0;34m)\u001b[0m\u001b[0;34m:\u001b[0m\u001b[0;34m\u001b[0m\u001b[0m\n",
      "\u001b[0;32m/usr/local/lib/python2.7/dist-packages/keras/engine/training.pyc\u001b[0m in \u001b[0;36m_fit_loop\u001b[0;34m(self, f, ins, out_labels, batch_size, epochs, verbose, callbacks, val_f, val_ins, shuffle, callback_metrics, initial_epoch)\u001b[0m\n\u001b[1;32m   1150\u001b[0m                 \u001b[0mbatch_logs\u001b[0m\u001b[0;34m[\u001b[0m\u001b[0;34m'size'\u001b[0m\u001b[0;34m]\u001b[0m \u001b[0;34m=\u001b[0m \u001b[0mlen\u001b[0m\u001b[0;34m(\u001b[0m\u001b[0mbatch_ids\u001b[0m\u001b[0;34m)\u001b[0m\u001b[0;34m\u001b[0m\u001b[0m\n\u001b[1;32m   1151\u001b[0m                 \u001b[0mcallbacks\u001b[0m\u001b[0;34m.\u001b[0m\u001b[0mon_batch_begin\u001b[0m\u001b[0;34m(\u001b[0m\u001b[0mbatch_index\u001b[0m\u001b[0;34m,\u001b[0m \u001b[0mbatch_logs\u001b[0m\u001b[0;34m)\u001b[0m\u001b[0;34m\u001b[0m\u001b[0m\n\u001b[0;32m-> 1152\u001b[0;31m                 \u001b[0mouts\u001b[0m \u001b[0;34m=\u001b[0m \u001b[0mf\u001b[0m\u001b[0;34m(\u001b[0m\u001b[0mins_batch\u001b[0m\u001b[0;34m)\u001b[0m\u001b[0;34m\u001b[0m\u001b[0m\n\u001b[0m\u001b[1;32m   1153\u001b[0m                 \u001b[0;32mif\u001b[0m \u001b[0;32mnot\u001b[0m \u001b[0misinstance\u001b[0m\u001b[0;34m(\u001b[0m\u001b[0mouts\u001b[0m\u001b[0;34m,\u001b[0m \u001b[0mlist\u001b[0m\u001b[0;34m)\u001b[0m\u001b[0;34m:\u001b[0m\u001b[0;34m\u001b[0m\u001b[0m\n\u001b[1;32m   1154\u001b[0m                     \u001b[0mouts\u001b[0m \u001b[0;34m=\u001b[0m \u001b[0;34m[\u001b[0m\u001b[0mouts\u001b[0m\u001b[0;34m]\u001b[0m\u001b[0;34m\u001b[0m\u001b[0m\n",
      "\u001b[0;32m/usr/local/lib/python2.7/dist-packages/keras/backend/tensorflow_backend.pyc\u001b[0m in \u001b[0;36m__call__\u001b[0;34m(self, inputs)\u001b[0m\n\u001b[1;32m   2227\u001b[0m         \u001b[0msession\u001b[0m \u001b[0;34m=\u001b[0m \u001b[0mget_session\u001b[0m\u001b[0;34m(\u001b[0m\u001b[0;34m)\u001b[0m\u001b[0;34m\u001b[0m\u001b[0m\n\u001b[1;32m   2228\u001b[0m         updated = session.run(self.outputs + [self.updates_op],\n\u001b[0;32m-> 2229\u001b[0;31m                               feed_dict=feed_dict)\n\u001b[0m\u001b[1;32m   2230\u001b[0m         \u001b[0;32mreturn\u001b[0m \u001b[0mupdated\u001b[0m\u001b[0;34m[\u001b[0m\u001b[0;34m:\u001b[0m\u001b[0mlen\u001b[0m\u001b[0;34m(\u001b[0m\u001b[0mself\u001b[0m\u001b[0;34m.\u001b[0m\u001b[0moutputs\u001b[0m\u001b[0;34m)\u001b[0m\u001b[0;34m]\u001b[0m\u001b[0;34m\u001b[0m\u001b[0m\n\u001b[1;32m   2231\u001b[0m \u001b[0;34m\u001b[0m\u001b[0m\n",
      "\u001b[0;32m/usr/local/lib/python2.7/dist-packages/tensorflow/python/client/session.pyc\u001b[0m in \u001b[0;36mrun\u001b[0;34m(self, fetches, feed_dict, options, run_metadata)\u001b[0m\n\u001b[1;32m    776\u001b[0m     \u001b[0;32mtry\u001b[0m\u001b[0;34m:\u001b[0m\u001b[0;34m\u001b[0m\u001b[0m\n\u001b[1;32m    777\u001b[0m       result = self._run(None, fetches, feed_dict, options_ptr,\n\u001b[0;32m--> 778\u001b[0;31m                          run_metadata_ptr)\n\u001b[0m\u001b[1;32m    779\u001b[0m       \u001b[0;32mif\u001b[0m \u001b[0mrun_metadata\u001b[0m\u001b[0;34m:\u001b[0m\u001b[0;34m\u001b[0m\u001b[0m\n\u001b[1;32m    780\u001b[0m         \u001b[0mproto_data\u001b[0m \u001b[0;34m=\u001b[0m \u001b[0mtf_session\u001b[0m\u001b[0;34m.\u001b[0m\u001b[0mTF_GetBuffer\u001b[0m\u001b[0;34m(\u001b[0m\u001b[0mrun_metadata_ptr\u001b[0m\u001b[0;34m)\u001b[0m\u001b[0;34m\u001b[0m\u001b[0m\n",
      "\u001b[0;32m/usr/local/lib/python2.7/dist-packages/tensorflow/python/client/session.pyc\u001b[0m in \u001b[0;36m_run\u001b[0;34m(self, handle, fetches, feed_dict, options, run_metadata)\u001b[0m\n\u001b[1;32m    980\u001b[0m     \u001b[0;32mif\u001b[0m \u001b[0mfinal_fetches\u001b[0m \u001b[0;32mor\u001b[0m \u001b[0mfinal_targets\u001b[0m\u001b[0;34m:\u001b[0m\u001b[0;34m\u001b[0m\u001b[0m\n\u001b[1;32m    981\u001b[0m       results = self._do_run(handle, final_targets, final_fetches,\n\u001b[0;32m--> 982\u001b[0;31m                              feed_dict_string, options, run_metadata)\n\u001b[0m\u001b[1;32m    983\u001b[0m     \u001b[0;32melse\u001b[0m\u001b[0;34m:\u001b[0m\u001b[0;34m\u001b[0m\u001b[0m\n\u001b[1;32m    984\u001b[0m       \u001b[0mresults\u001b[0m \u001b[0;34m=\u001b[0m \u001b[0;34m[\u001b[0m\u001b[0;34m]\u001b[0m\u001b[0;34m\u001b[0m\u001b[0m\n",
      "\u001b[0;32m/usr/local/lib/python2.7/dist-packages/tensorflow/python/client/session.pyc\u001b[0m in \u001b[0;36m_do_run\u001b[0;34m(self, handle, target_list, fetch_list, feed_dict, options, run_metadata)\u001b[0m\n\u001b[1;32m   1030\u001b[0m     \u001b[0;32mif\u001b[0m \u001b[0mhandle\u001b[0m \u001b[0;32mis\u001b[0m \u001b[0mNone\u001b[0m\u001b[0;34m:\u001b[0m\u001b[0;34m\u001b[0m\u001b[0m\n\u001b[1;32m   1031\u001b[0m       return self._do_call(_run_fn, self._session, feed_dict, fetch_list,\n\u001b[0;32m-> 1032\u001b[0;31m                            target_list, options, run_metadata)\n\u001b[0m\u001b[1;32m   1033\u001b[0m     \u001b[0;32melse\u001b[0m\u001b[0;34m:\u001b[0m\u001b[0;34m\u001b[0m\u001b[0m\n\u001b[1;32m   1034\u001b[0m       return self._do_call(_prun_fn, self._session, handle, feed_dict,\n",
      "\u001b[0;32m/usr/local/lib/python2.7/dist-packages/tensorflow/python/client/session.pyc\u001b[0m in \u001b[0;36m_do_call\u001b[0;34m(self, fn, *args)\u001b[0m\n\u001b[1;32m   1037\u001b[0m   \u001b[0;32mdef\u001b[0m \u001b[0m_do_call\u001b[0m\u001b[0;34m(\u001b[0m\u001b[0mself\u001b[0m\u001b[0;34m,\u001b[0m \u001b[0mfn\u001b[0m\u001b[0;34m,\u001b[0m \u001b[0;34m*\u001b[0m\u001b[0margs\u001b[0m\u001b[0;34m)\u001b[0m\u001b[0;34m:\u001b[0m\u001b[0;34m\u001b[0m\u001b[0m\n\u001b[1;32m   1038\u001b[0m     \u001b[0;32mtry\u001b[0m\u001b[0;34m:\u001b[0m\u001b[0;34m\u001b[0m\u001b[0m\n\u001b[0;32m-> 1039\u001b[0;31m       \u001b[0;32mreturn\u001b[0m \u001b[0mfn\u001b[0m\u001b[0;34m(\u001b[0m\u001b[0;34m*\u001b[0m\u001b[0margs\u001b[0m\u001b[0;34m)\u001b[0m\u001b[0;34m\u001b[0m\u001b[0m\n\u001b[0m\u001b[1;32m   1040\u001b[0m     \u001b[0;32mexcept\u001b[0m \u001b[0merrors\u001b[0m\u001b[0;34m.\u001b[0m\u001b[0mOpError\u001b[0m \u001b[0;32mas\u001b[0m \u001b[0me\u001b[0m\u001b[0;34m:\u001b[0m\u001b[0;34m\u001b[0m\u001b[0m\n\u001b[1;32m   1041\u001b[0m       \u001b[0mmessage\u001b[0m \u001b[0;34m=\u001b[0m \u001b[0mcompat\u001b[0m\u001b[0;34m.\u001b[0m\u001b[0mas_text\u001b[0m\u001b[0;34m(\u001b[0m\u001b[0me\u001b[0m\u001b[0;34m.\u001b[0m\u001b[0mmessage\u001b[0m\u001b[0;34m)\u001b[0m\u001b[0;34m\u001b[0m\u001b[0m\n",
      "\u001b[0;32m/usr/local/lib/python2.7/dist-packages/tensorflow/python/client/session.pyc\u001b[0m in \u001b[0;36m_run_fn\u001b[0;34m(session, feed_dict, fetch_list, target_list, options, run_metadata)\u001b[0m\n\u001b[1;32m   1019\u001b[0m         return tf_session.TF_Run(session, options,\n\u001b[1;32m   1020\u001b[0m                                  \u001b[0mfeed_dict\u001b[0m\u001b[0;34m,\u001b[0m \u001b[0mfetch_list\u001b[0m\u001b[0;34m,\u001b[0m \u001b[0mtarget_list\u001b[0m\u001b[0;34m,\u001b[0m\u001b[0;34m\u001b[0m\u001b[0m\n\u001b[0;32m-> 1021\u001b[0;31m                                  status, run_metadata)\n\u001b[0m\u001b[1;32m   1022\u001b[0m \u001b[0;34m\u001b[0m\u001b[0m\n\u001b[1;32m   1023\u001b[0m     \u001b[0;32mdef\u001b[0m \u001b[0m_prun_fn\u001b[0m\u001b[0;34m(\u001b[0m\u001b[0msession\u001b[0m\u001b[0;34m,\u001b[0m \u001b[0mhandle\u001b[0m\u001b[0;34m,\u001b[0m \u001b[0mfeed_dict\u001b[0m\u001b[0;34m,\u001b[0m \u001b[0mfetch_list\u001b[0m\u001b[0;34m)\u001b[0m\u001b[0;34m:\u001b[0m\u001b[0;34m\u001b[0m\u001b[0m\n",
      "\u001b[0;31mKeyboardInterrupt\u001b[0m: "
     ]
    }
   ],
   "source": [
    "autoencoder.fit(x_train, x_train,\n",
    "                epochs=100,\n",
    "                batch_size=256,\n",
    "                shuffle=True,\n",
    "                validation_data=(x_test, x_test))"
   ]
  },
  {
   "cell_type": "code",
   "execution_count": 35,
   "metadata": {},
   "outputs": [
    {
     "ename": "ValueError",
     "evalue": "Error when checking : expected input_15 to have shape (None, 128) but got array with shape (10000, 32)",
     "output_type": "error",
     "traceback": [
      "\u001b[0;31m---------------------------------------------------------------------------\u001b[0m",
      "\u001b[0;31mValueError\u001b[0m                                Traceback (most recent call last)",
      "\u001b[0;32m<ipython-input-35-d2a6037c896d>\u001b[0m in \u001b[0;36m<module>\u001b[0;34m()\u001b[0m\n\u001b[1;32m      2\u001b[0m \u001b[0;31m# note that we take them from the *test* set\u001b[0m\u001b[0;34m\u001b[0m\u001b[0;34m\u001b[0m\u001b[0m\n\u001b[1;32m      3\u001b[0m \u001b[0mencoded_imgs\u001b[0m \u001b[0;34m=\u001b[0m \u001b[0mencoder\u001b[0m\u001b[0;34m.\u001b[0m\u001b[0mpredict\u001b[0m\u001b[0;34m(\u001b[0m\u001b[0mx_test\u001b[0m\u001b[0;34m)\u001b[0m\u001b[0;34m\u001b[0m\u001b[0m\n\u001b[0;32m----> 4\u001b[0;31m \u001b[0mdecoded_imgs\u001b[0m \u001b[0;34m=\u001b[0m \u001b[0mdecoder\u001b[0m\u001b[0;34m.\u001b[0m\u001b[0mpredict\u001b[0m\u001b[0;34m(\u001b[0m\u001b[0mencoded_imgs\u001b[0m\u001b[0;34m)\u001b[0m\u001b[0;34m\u001b[0m\u001b[0m\n\u001b[0m",
      "\u001b[0;32m/usr/local/lib/python2.7/dist-packages/keras/engine/training.pyc\u001b[0m in \u001b[0;36mpredict\u001b[0;34m(self, x, batch_size, verbose)\u001b[0m\n\u001b[1;32m   1565\u001b[0m         x = _standardize_input_data(x, self._feed_input_names,\n\u001b[1;32m   1566\u001b[0m                                     \u001b[0mself\u001b[0m\u001b[0;34m.\u001b[0m\u001b[0m_feed_input_shapes\u001b[0m\u001b[0;34m,\u001b[0m\u001b[0;34m\u001b[0m\u001b[0m\n\u001b[0;32m-> 1567\u001b[0;31m                                     check_batch_axis=False)\n\u001b[0m\u001b[1;32m   1568\u001b[0m         \u001b[0;32mif\u001b[0m \u001b[0mself\u001b[0m\u001b[0;34m.\u001b[0m\u001b[0mstateful\u001b[0m\u001b[0;34m:\u001b[0m\u001b[0;34m\u001b[0m\u001b[0m\n\u001b[1;32m   1569\u001b[0m             \u001b[0;32mif\u001b[0m \u001b[0mx\u001b[0m\u001b[0;34m[\u001b[0m\u001b[0;36m0\u001b[0m\u001b[0;34m]\u001b[0m\u001b[0;34m.\u001b[0m\u001b[0mshape\u001b[0m\u001b[0;34m[\u001b[0m\u001b[0;36m0\u001b[0m\u001b[0;34m]\u001b[0m \u001b[0;34m>\u001b[0m \u001b[0mbatch_size\u001b[0m \u001b[0;32mand\u001b[0m \u001b[0mx\u001b[0m\u001b[0;34m[\u001b[0m\u001b[0;36m0\u001b[0m\u001b[0;34m]\u001b[0m\u001b[0;34m.\u001b[0m\u001b[0mshape\u001b[0m\u001b[0;34m[\u001b[0m\u001b[0;36m0\u001b[0m\u001b[0;34m]\u001b[0m \u001b[0;34m%\u001b[0m \u001b[0mbatch_size\u001b[0m \u001b[0;34m!=\u001b[0m \u001b[0;36m0\u001b[0m\u001b[0;34m:\u001b[0m\u001b[0;34m\u001b[0m\u001b[0m\n",
      "\u001b[0;32m/usr/local/lib/python2.7/dist-packages/keras/engine/training.pyc\u001b[0m in \u001b[0;36m_standardize_input_data\u001b[0;34m(data, names, shapes, check_batch_axis, exception_prefix)\u001b[0m\n\u001b[1;32m    137\u001b[0m                             \u001b[0;34m' to have shape '\u001b[0m \u001b[0;34m+\u001b[0m \u001b[0mstr\u001b[0m\u001b[0;34m(\u001b[0m\u001b[0mshapes\u001b[0m\u001b[0;34m[\u001b[0m\u001b[0mi\u001b[0m\u001b[0;34m]\u001b[0m\u001b[0;34m)\u001b[0m \u001b[0;34m+\u001b[0m\u001b[0;34m\u001b[0m\u001b[0m\n\u001b[1;32m    138\u001b[0m                             \u001b[0;34m' but got array with shape '\u001b[0m \u001b[0;34m+\u001b[0m\u001b[0;34m\u001b[0m\u001b[0m\n\u001b[0;32m--> 139\u001b[0;31m                             str(array.shape))\n\u001b[0m\u001b[1;32m    140\u001b[0m     \u001b[0;32mreturn\u001b[0m \u001b[0marrays\u001b[0m\u001b[0;34m\u001b[0m\u001b[0m\n\u001b[1;32m    141\u001b[0m \u001b[0;34m\u001b[0m\u001b[0m\n",
      "\u001b[0;31mValueError\u001b[0m: Error when checking : expected input_15 to have shape (None, 128) but got array with shape (10000, 32)"
     ]
    }
   ],
   "source": [
    "# encode and decode some digits\n",
    "# note that we take them from the *test* set\n",
    "encoded_imgs = encoder.predict(x_test)\n",
    "decoded_imgs = decoder.predict(encoded_imgs)"
   ]
  },
  {
   "cell_type": "code",
   "execution_count": null,
   "metadata": {},
   "outputs": [],
   "source": [
    "# use Matplotlib (don't ask)\n",
    "\n",
    "n = 10  # how many digits we will display\n",
    "plt.figure(figsize=(20, 4))\n",
    "for i in range(n):\n",
    "    # display original\n",
    "    ax = plt.subplot(2, n, i + 1)\n",
    "    plt.imshow(x_test[i].reshape(28, 28))\n",
    "    plt.gray()\n",
    "    ax.get_xaxis().set_visible(False)\n",
    "    ax.get_yaxis().set_visible(False)\n",
    "\n",
    "    # display reconstruction\n",
    "    ax = plt.subplot(2, n, i + 1 + n)\n",
    "    plt.imshow(decoded_imgs[i].reshape(28, 28))\n",
    "    plt.gray()\n",
    "    ax.get_xaxis().set_visible(False)\n",
    "    ax.get_yaxis().set_visible(False)\n",
    "plt.show()"
   ]
  },
  {
   "cell_type": "code",
   "execution_count": null,
   "metadata": {
    "collapsed": true
   },
   "outputs": [],
   "source": []
  },
  {
   "cell_type": "code",
   "execution_count": null,
   "metadata": {
    "collapsed": true
   },
   "outputs": [],
   "source": []
  },
  {
   "cell_type": "code",
   "execution_count": 7,
   "metadata": {},
   "outputs": [
    {
     "name": "stdout",
     "output_type": "stream",
     "text": [
      "Downloading data from https://s3.amazonaws.com/img-datasets/mnist.npz\n"
     ]
    }
   ],
   "source": [
    "(x_train, _), (x_test, _) = mnist.load_data()"
   ]
  }
 ],
 "metadata": {
  "kernelspec": {
   "display_name": "Python 2",
   "language": "python",
   "name": "python2"
  },
  "language_info": {
   "codemirror_mode": {
    "name": "ipython",
    "version": 2
   },
   "file_extension": ".py",
   "mimetype": "text/x-python",
   "name": "python",
   "nbconvert_exporter": "python",
   "pygments_lexer": "ipython2",
   "version": "2.7.12"
  }
 },
 "nbformat": 4,
 "nbformat_minor": 2
}
